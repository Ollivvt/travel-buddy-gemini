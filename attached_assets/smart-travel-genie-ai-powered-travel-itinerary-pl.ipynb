{
 "cells": [
  {
   "cell_type": "markdown",
   "id": "67b85b0d",
   "metadata": {
    "papermill": {
     "duration": 0.004595,
     "end_time": "2025-04-12T12:30:14.925500",
     "exception": false,
     "start_time": "2025-04-12T12:30:14.920905",
     "status": "completed"
    },
    "tags": []
   },
   "source": [
    "# 🧳 Smart Travel Genie: AI-Powered Travel Itinerary Planner\n",
    "A Capstone Project for the Gen AI Intensive Course 2025Q1 by OLIVIA TSENG (GitHub: @ollivvt)\n",
    "\n",
    "## ✏️ Introduction\n",
    "\n",
    "Planning a trip can be stressful, especially when you're trying to balance time, budget, and personal interests. This notebook demonstrates how generative AI can act as a personal travel assistant—automatically creating customized day-by-day itineraries based on a few user preferences.\n",
    "\n",
    "By leveraging structured output generation, few-shot prompting, and retrieval-augmented logic, this project simulates how a large language model can replace hours of manual travel research. It's like having a travel-savvy friend who instantly knows where to go, what to eat, and what to do.\n",
    "\n",
    "Tailored just for you!"
   ]
  },
  {
   "cell_type": "markdown",
   "id": "204d934e",
   "metadata": {
    "papermill": {
     "duration": 0.003336,
     "end_time": "2025-04-12T12:30:14.932726",
     "exception": false,
     "start_time": "2025-04-12T12:30:14.929390",
     "status": "completed"
    },
    "tags": []
   },
   "source": [
    "## 🌍 Innovation and Impact\n",
    "\n",
    "This project tackles a highly relatable real-world pain point: trip planning overload. Instead of searching dozens of blogs, review sites, and maps, the user simply inputs their destination, dates, and interests—and receives a structured, personalized itinerary in seconds.\n",
    "\n",
    "This use case is:\n",
    "- ✅ **Creative**: It transforms LLMs into virtual travel agents with a tone that adapts to user preferences.\n",
    "- ✅ **Practical**: It can evolve into a real product with live data integration (e.g., Google Maps, weather, ticketing APIs).\n",
    "- ✅ **Well-aligned with Gen AI**: It showcases three core capabilities:\n",
    "  - **Structured Output**: The model returns a JSON-formatted, multi-day itinerary.\n",
    "  - **Few-shot Prompting**: Examples guide the model to adopt specific styles (e.g., luxury vs. budget).\n",
    "  - **RAG-style Simulation**: User interests steer the content selection, mimicking retrieval-augmented logic.\n"
   ]
  },
  {
   "cell_type": "markdown",
   "id": "948181b7",
   "metadata": {
    "papermill": {
     "duration": 0.003192,
     "end_time": "2025-04-12T12:30:14.939553",
     "exception": false,
     "start_time": "2025-04-12T12:30:14.936361",
     "status": "completed"
    },
    "tags": []
   },
   "source": [
    "## 🔧 Setup: Install and Authenticate Google Gemini API\n",
    "\n",
    "We use the `google-genai` Python package to connect to Google's Gemini Pro model. Gemini will be used to generate structured text content for each day's itinerary.\n",
    "\n",
    "Note: In Kaggle, we use a private API key stored securely with `kaggle_secrets`."
   ]
  },
  {
   "cell_type": "code",
   "execution_count": 1,
   "id": "4cc033dc",
   "metadata": {
    "execution": {
     "iopub.execute_input": "2025-04-12T12:30:14.947926Z",
     "iopub.status.busy": "2025-04-12T12:30:14.947601Z",
     "iopub.status.idle": "2025-04-12T12:30:21.572740Z",
     "shell.execute_reply": "2025-04-12T12:30:21.571482Z"
    },
    "papermill": {
     "duration": 6.631447,
     "end_time": "2025-04-12T12:30:21.574534",
     "exception": false,
     "start_time": "2025-04-12T12:30:14.943087",
     "status": "completed"
    },
    "tags": []
   },
   "outputs": [
    {
     "name": "stdout",
     "output_type": "stream",
     "text": [
      "\u001b[2K   \u001b[90m━━━━━━━━━━━━━━━━━━━━━━━━━━━━━━━━━━━━━━━━\u001b[0m \u001b[32m144.7/144.7 kB\u001b[0m \u001b[31m4.3 MB/s\u001b[0m eta \u001b[36m0:00:00\u001b[0m\r\n",
      "\u001b[2K   \u001b[90m━━━━━━━━━━━━━━━━━━━━━━━━━━━━━━━━━━━━━━━━\u001b[0m \u001b[32m100.9/100.9 kB\u001b[0m \u001b[31m4.2 MB/s\u001b[0m eta \u001b[36m0:00:00\u001b[0m\r\n",
      "\u001b[?25h"
     ]
    }
   ],
   "source": [
    "!pip install -U -q \"google-genai==1.7.0\""
   ]
  },
  {
   "cell_type": "code",
   "execution_count": 2,
   "id": "1bdf973e",
   "metadata": {
    "execution": {
     "iopub.execute_input": "2025-04-12T12:30:21.583980Z",
     "iopub.status.busy": "2025-04-12T12:30:21.583622Z",
     "iopub.status.idle": "2025-04-12T12:30:22.944953Z",
     "shell.execute_reply": "2025-04-12T12:30:22.943929Z"
    },
    "papermill": {
     "duration": 1.368088,
     "end_time": "2025-04-12T12:30:22.946746",
     "exception": false,
     "start_time": "2025-04-12T12:30:21.578658",
     "status": "completed"
    },
    "tags": []
   },
   "outputs": [
    {
     "data": {
      "text/plain": [
       "'1.7.0'"
      ]
     },
     "execution_count": 2,
     "metadata": {},
     "output_type": "execute_result"
    }
   ],
   "source": [
    "from google import genai\n",
    "from google.genai import types\n",
    "\n",
    "genai.__version__"
   ]
  },
  {
   "cell_type": "code",
   "execution_count": 3,
   "id": "11a09f51",
   "metadata": {
    "execution": {
     "iopub.execute_input": "2025-04-12T12:30:22.956458Z",
     "iopub.status.busy": "2025-04-12T12:30:22.955915Z",
     "iopub.status.idle": "2025-04-12T12:30:23.464468Z",
     "shell.execute_reply": "2025-04-12T12:30:23.463648Z"
    },
    "papermill": {
     "duration": 0.515215,
     "end_time": "2025-04-12T12:30:23.466152",
     "exception": false,
     "start_time": "2025-04-12T12:30:22.950937",
     "status": "completed"
    },
    "tags": []
   },
   "outputs": [],
   "source": [
    "from kaggle_secrets import UserSecretsClient\n",
    "\n",
    "GOOGLE_API_KEY = UserSecretsClient().get_secret(\"GOOGLE_API_KEY\")\n",
    "\n",
    "client = genai.Client(api_key=GOOGLE_API_KEY)"
   ]
  },
  {
   "cell_type": "code",
   "execution_count": 4,
   "id": "980826e2",
   "metadata": {
    "execution": {
     "iopub.execute_input": "2025-04-12T12:30:23.475775Z",
     "iopub.status.busy": "2025-04-12T12:30:23.475453Z",
     "iopub.status.idle": "2025-04-12T12:30:23.585415Z",
     "shell.execute_reply": "2025-04-12T12:30:23.584153Z"
    },
    "papermill": {
     "duration": 0.116578,
     "end_time": "2025-04-12T12:30:23.587017",
     "exception": false,
     "start_time": "2025-04-12T12:30:23.470439",
     "status": "completed"
    },
    "tags": []
   },
   "outputs": [
    {
     "name": "stdout",
     "output_type": "stream",
     "text": [
      "✅ Available model: models/gemini-1.0-pro-vision-latest\n",
      "✅ Available model: models/gemini-pro-vision\n",
      "✅ Available model: models/gemini-1.5-pro-latest\n",
      "✅ Available model: models/gemini-1.5-pro-001\n",
      "✅ Available model: models/gemini-1.5-pro-002\n",
      "✅ Available model: models/gemini-1.5-pro\n",
      "✅ Available model: models/gemini-1.5-flash-latest\n",
      "✅ Available model: models/gemini-1.5-flash-001\n",
      "✅ Available model: models/gemini-1.5-flash-001-tuning\n",
      "✅ Available model: models/gemini-1.5-flash\n",
      "✅ Available model: models/gemini-1.5-flash-002\n",
      "✅ Available model: models/gemini-1.5-flash-8b\n",
      "✅ Available model: models/gemini-1.5-flash-8b-001\n",
      "✅ Available model: models/gemini-1.5-flash-8b-latest\n",
      "✅ Available model: models/gemini-1.5-flash-8b-exp-0827\n",
      "✅ Available model: models/gemini-1.5-flash-8b-exp-0924\n",
      "✅ Available model: models/gemini-2.5-pro-exp-03-25\n",
      "✅ Available model: models/gemini-2.5-pro-preview-03-25\n",
      "✅ Available model: models/gemini-2.0-flash-exp\n",
      "✅ Available model: models/gemini-2.0-flash\n",
      "✅ Available model: models/gemini-2.0-flash-001\n",
      "✅ Available model: models/gemini-2.0-flash-exp-image-generation\n",
      "✅ Available model: models/gemini-2.0-flash-lite-001\n",
      "✅ Available model: models/gemini-2.0-flash-lite\n",
      "✅ Available model: models/gemini-2.0-flash-lite-preview-02-05\n",
      "✅ Available model: models/gemini-2.0-flash-lite-preview\n",
      "✅ Available model: models/gemini-2.0-pro-exp\n",
      "✅ Available model: models/gemini-2.0-pro-exp-02-05\n",
      "✅ Available model: models/gemini-exp-1206\n",
      "✅ Available model: models/gemini-2.0-flash-thinking-exp-01-21\n",
      "✅ Available model: models/gemini-2.0-flash-thinking-exp\n",
      "✅ Available model: models/gemini-2.0-flash-thinking-exp-1219\n",
      "✅ Available model: models/learnlm-1.5-pro-experimental\n",
      "✅ Available model: models/gemma-3-1b-it\n",
      "✅ Available model: models/gemma-3-4b-it\n",
      "✅ Available model: models/gemma-3-12b-it\n",
      "✅ Available model: models/gemma-3-27b-it\n"
     ]
    }
   ],
   "source": [
    "# Confirm Gemini models available\n",
    "for model in client.models.list():\n",
    "    if \"generateContent\" in model.supported_actions:\n",
    "        print(\"✅ Available model:\", model.name)"
   ]
  },
  {
   "cell_type": "markdown",
   "id": "b3144d13",
   "metadata": {
    "papermill": {
     "duration": 0.003976,
     "end_time": "2025-04-12T12:30:23.595335",
     "exception": false,
     "start_time": "2025-04-12T12:30:23.591359",
     "status": "completed"
    },
    "tags": []
   },
   "source": [
    "## ✍️ Step 1: Define User Preferences\n",
    "\n",
    "We simulate a user form where someone inputs their:\n",
    "- Destination\n",
    "- Travel dates\n",
    "- Budget level\n",
    "- Travel interests (e.g., food, temples, hiking)\n",
    "\n",
    "These will guide the AI in generating a tailored itinerary."
   ]
  },
  {
   "cell_type": "code",
   "execution_count": 5,
   "id": "a83ad80f",
   "metadata": {
    "execution": {
     "iopub.execute_input": "2025-04-12T12:30:23.604647Z",
     "iopub.status.busy": "2025-04-12T12:30:23.604330Z",
     "iopub.status.idle": "2025-04-12T12:30:23.609092Z",
     "shell.execute_reply": "2025-04-12T12:30:23.608167Z"
    },
    "papermill": {
     "duration": 0.01126,
     "end_time": "2025-04-12T12:30:23.610729",
     "exception": false,
     "start_time": "2025-04-12T12:30:23.599469",
     "status": "completed"
    },
    "tags": []
   },
   "outputs": [],
   "source": [
    "user_input = {\n",
    "    \"destination\": \"Kyoto\",\n",
    "    \"start_date\": \"2025-05-01\",\n",
    "    \"end_date\": \"2025-05-07\",\n",
    "    \"budget\": \"moderate\",\n",
    "    \"interests\": [\"temples\", \"nature\", \"local food\"]\n",
    "}"
   ]
  },
  {
   "cell_type": "markdown",
   "id": "8a52f90f",
   "metadata": {
    "papermill": {
     "duration": 0.003805,
     "end_time": "2025-04-12T12:30:23.618775",
     "exception": false,
     "start_time": "2025-04-12T12:30:23.614970",
     "status": "completed"
    },
    "tags": []
   },
   "source": [
    "## 🧠 Step 2: Few-Shot Prompting for Style Control\n",
    "\n",
    "To help Gemini produce well-structured and stylistically appropriate responses, we provide a few-shot prompt. These examples teach the model what a luxury foodie itinerary or a budget backpacker itinerary might look like.\n",
    "\n",
    "This technique improves consistency and makes the AI output more user-aligned."
   ]
  },
  {
   "cell_type": "code",
   "execution_count": 6,
   "id": "6b8ae76d",
   "metadata": {
    "execution": {
     "iopub.execute_input": "2025-04-12T12:30:23.627938Z",
     "iopub.status.busy": "2025-04-12T12:30:23.627660Z",
     "iopub.status.idle": "2025-04-12T12:30:23.632796Z",
     "shell.execute_reply": "2025-04-12T12:30:23.631790Z"
    },
    "papermill": {
     "duration": 0.011587,
     "end_time": "2025-04-12T12:30:23.634335",
     "exception": false,
     "start_time": "2025-04-12T12:30:23.622748",
     "status": "completed"
    },
    "tags": []
   },
   "outputs": [],
   "source": [
    "few_shot_examples = [\n",
    "    {\n",
    "        \"style\": \"luxury foodie\",\n",
    "        \"output\": \"\"\"{\n",
    "  \"day\": 1,\n",
    "  \"summary\": \"Arrival and indulgence in local gourmet\",\n",
    "  \"morning\": \"Check into a 5-star ryokan in Gion.\",\n",
    "  \"afternoon\": \"Explore Nishiki Market with a private food guide.\",\n",
    "  \"evening\": \"Dinner at Michelin-starred Kikunoi.\"\n",
    "}\"\"\"\n",
    "    },\n",
    "    {\n",
    "        \"style\": \"budget backpacker\",\n",
    "        \"output\": \"\"\"{\n",
    "  \"day\": 1,\n",
    "  \"summary\": \"Temple hopping on a shoestring\",\n",
    "  \"morning\": \"Check into a hostel near Kyoto Station.\",\n",
    "  \"afternoon\": \"Visit Fushimi Inari Shrine and hike up the trails.\",\n",
    "  \"evening\": \"Grab dinner from a 7-11 and join a free walking tour.\"\n",
    "}\"\"\"\n",
    "    }\n",
    "]"
   ]
  },
  {
   "cell_type": "markdown",
   "id": "9b991f5e",
   "metadata": {
    "papermill": {
     "duration": 0.003787,
     "end_time": "2025-04-12T12:30:23.642335",
     "exception": false,
     "start_time": "2025-04-12T12:30:23.638548",
     "status": "completed"
    },
    "tags": []
   },
   "source": [
    "## 🛠️ Step 3: Building the Prompt\n",
    "\n",
    "Here we dynamically construct a prompt for the Gemini model. The prompt includes:\n",
    "- The user's input\n",
    "- Several formatting examples (few-shot)\n",
    "- Instructions to return results in structured JSON format\n",
    "\n",
    "This is where we simulate grounding/RAG logic — by using user interests to implicitly guide what kind of activities the model should propose."
   ]
  },
  {
   "cell_type": "code",
   "execution_count": 7,
   "id": "f583ad49",
   "metadata": {
    "execution": {
     "iopub.execute_input": "2025-04-12T12:30:23.651515Z",
     "iopub.status.busy": "2025-04-12T12:30:23.651150Z",
     "iopub.status.idle": "2025-04-12T12:30:23.658254Z",
     "shell.execute_reply": "2025-04-12T12:30:23.657117Z"
    },
    "papermill": {
     "duration": 0.013413,
     "end_time": "2025-04-12T12:30:23.659738",
     "exception": false,
     "start_time": "2025-04-12T12:30:23.646325",
     "status": "completed"
    },
    "tags": []
   },
   "outputs": [
    {
     "name": "stdout",
     "output_type": "stream",
     "text": [
      "You are a smart travel assistant that creates personalized travel itineraries in structured JSON format.\n",
      "\n",
      "Here are a few examples:\n",
      "# Style: luxury foodie\n",
      "{\n",
      "  \"day\": 1,\n",
      "  \"summary\": \"Arrival and indulgence in local gourmet\",\n",
      "  \"morning\": \"Check into a 5-star ryokan in Gion.\",\n",
      "  \"afternoon\": \"Explore Nishiki Market with a private food guide.\",\n",
      "  \"evening\": \"Dinner at Michelin-starred Kikunoi.\"\n",
      "}\n",
      "\n",
      "# Style: budget backpacker\n",
      "{\n",
      "  \"day\": 1,\n",
      "  \"summary\": \"Temple hopping on a shoestring\",\n",
      "  \"morning\": \"Check into a hostel near Kyoto Station.\",\n",
      "  \"afternoon\": \"Visit Fushimi Inari Shrine and hike up the trails.\",\n",
      "  \"evening\": \"Grab dinner from a 7-11 and join a free walking tour.\"\n",
      "}\n",
      "\n",
      "Now create an itinerary for the following user:\n",
      "Destination: Kyoto\n",
      "Dates: 2025-05-01 to 2025-05-07\n",
      "Budget: moderate\n",
      "I\n"
     ]
    }
   ],
   "source": [
    "def build_prompt(user_input, few_shot_examples):\n",
    "    prompt = (\n",
    "        \"You are a smart travel assistant that creates personalized travel itineraries in structured JSON format.\\n\\n\"\n",
    "        \"Here are a few examples:\\n\"\n",
    "    )\n",
    "    for ex in few_shot_examples:\n",
    "        prompt += f\"# Style: {ex['style']}\\n{ex['output']}\\n\\n\"\n",
    "    \n",
    "    prompt += (\n",
    "        \"Now create an itinerary for the following user:\\n\"\n",
    "        f\"Destination: {user_input['destination']}\\n\"\n",
    "        f\"Dates: {user_input['start_date']} to {user_input['end_date']}\\n\"\n",
    "        f\"Budget: {user_input['budget']}\\n\"\n",
    "        f\"Interests: {', '.join(user_input['interests'])}\\n\\n\"\n",
    "        \"Output the result as a list of JSON objects, one per day, each with keys: day, summary, morning, afternoon, evening.\"\n",
    "    )\n",
    "    return prompt\n",
    "\n",
    "prompt = build_prompt(user_input, few_shot_examples)\n",
    "print(prompt[:800])  # Preview first 800 characters of the prompt"
   ]
  },
  {
   "cell_type": "markdown",
   "id": "a36027b7",
   "metadata": {
    "papermill": {
     "duration": 0.004272,
     "end_time": "2025-04-12T12:30:23.668236",
     "exception": false,
     "start_time": "2025-04-12T12:30:23.663964",
     "status": "completed"
    },
    "tags": []
   },
   "source": [
    "## ✨ Step 4: Generate Itinerary with Gemini\n",
    "\n",
    "We now pass the prompt to `gemini-2.0-flash` and ask it to generate a full itinerary. We're using Gemini's text model with temperature control to balance creativity and coherence.\n",
    "\n",
    "The expected output is a multi-day itinerary formatted as JSON objects."
   ]
  },
  {
   "cell_type": "code",
   "execution_count": 8,
   "id": "8afd7d96",
   "metadata": {
    "execution": {
     "iopub.execute_input": "2025-04-12T12:30:23.678173Z",
     "iopub.status.busy": "2025-04-12T12:30:23.677815Z",
     "iopub.status.idle": "2025-04-12T12:30:29.293362Z",
     "shell.execute_reply": "2025-04-12T12:30:29.292292Z"
    },
    "papermill": {
     "duration": 5.622534,
     "end_time": "2025-04-12T12:30:29.295249",
     "exception": false,
     "start_time": "2025-04-12T12:30:23.672715",
     "status": "completed"
    },
    "tags": []
   },
   "outputs": [
    {
     "name": "stdout",
     "output_type": "stream",
     "text": [
      "Gemini Output:\n",
      " ```json\n",
      "[\n",
      "  {\n",
      "    \"day\": 1,\n",
      "    \"summary\": \"Arrival in Kyoto and Eastern Temple Exploration\",\n",
      "    \"morning\": \"Arrive at Kyoto Station, check into a comfortable hotel near the station or in the Gion district.  Leave luggage and grab a quick ramen lunch nearby.\",\n",
      "    \"afternoon\": \"Explore Kiyomizu-dera Temple. Take in the views and wander through the charming streets of Higashiyama district, sampling local sweets.\",\n",
      "    \"evening\": \"Dinner in Gion, trying a traditional Kaiseki meal at a moderately priced restaurant (e.g., Gion Karyo). Afterwards, stroll along the Shirakawa Canal.\"\n",
      "  },\n",
      "  {\n",
      "    \"day\": 2,\n",
      "    \"summary\": \"Golden Pavilion and Zen Garden Serenity\",\n",
      "    \"morning\": \"Visit Kinkaku-ji (Golden Pavilion), taking in its stunning beauty reflected in the pond.\",\n",
      "    \"afternoon\": \"Head to Ryoan-ji Temple and contemplate the famous Zen rock garden. Afterwards, explore the surrounding gardens and ponds.\",\n",
      "    \"evening\": \"Enjoy a casual dinner at Nishiki Market, sampling various street foo\n"
     ]
    }
   ],
   "source": [
    "response = client.models.generate_content(\n",
    "    model=\"gemini-2.0-flash\",\n",
    "    contents=prompt,\n",
    "    config=types.GenerateContentConfig(temperature=0.8),\n",
    ")\n",
    "\n",
    "generated_text = response.text\n",
    "print(\"Gemini Output:\\n\", generated_text[:1000])"
   ]
  },
  {
   "cell_type": "markdown",
   "id": "52fb1b1e",
   "metadata": {
    "papermill": {
     "duration": 0.004046,
     "end_time": "2025-04-12T12:30:29.303938",
     "exception": false,
     "start_time": "2025-04-12T12:30:29.299892",
     "status": "completed"
    },
    "tags": []
   },
   "source": [
    "## 🧼 Step 5: Parse Model Output into JSON\n",
    "\n",
    "Gemini may sometimes return structured content with extra explanation or markdown wrappers. Here, we try to extract just the JSON list of itineraries for clean formatting and further use."
   ]
  },
  {
   "cell_type": "code",
   "execution_count": 9,
   "id": "ee70a406",
   "metadata": {
    "execution": {
     "iopub.execute_input": "2025-04-12T12:30:29.313448Z",
     "iopub.status.busy": "2025-04-12T12:30:29.313120Z",
     "iopub.status.idle": "2025-04-12T12:30:29.319241Z",
     "shell.execute_reply": "2025-04-12T12:30:29.318183Z"
    },
    "papermill": {
     "duration": 0.012669,
     "end_time": "2025-04-12T12:30:29.320805",
     "exception": false,
     "start_time": "2025-04-12T12:30:29.308136",
     "status": "completed"
    },
    "tags": []
   },
   "outputs": [],
   "source": [
    "import json\n",
    "import re\n",
    "\n",
    "def extract_json_list(text):\n",
    "    try:\n",
    "        json_start = text.index(\"[\")\n",
    "        json_end = text.rindex(\"]\") + 1\n",
    "        json_str = text[json_start:json_end]\n",
    "        return json.loads(json_str)\n",
    "    except Exception as e:\n",
    "        print(\"⚠️ Couldn't parse JSON list:\", e)\n",
    "        return None\n",
    "\n",
    "itinerary_json = extract_json_list(generated_text)"
   ]
  },
  {
   "cell_type": "markdown",
   "id": "ea853e8a",
   "metadata": {
    "papermill": {
     "duration": 0.003961,
     "end_time": "2025-04-12T12:30:29.329060",
     "exception": false,
     "start_time": "2025-04-12T12:30:29.325099",
     "status": "completed"
    },
    "tags": []
   },
   "source": [
    "## 📅 Step 6: Visualize the Final Travel Itinerary\n",
    "\n",
    "We take the parsed JSON and display it in a user-friendly table. Each day includes:\n",
    "- A summary\n",
    "- Morning activity\n",
    "- Afternoon activity\n",
    "- Evening activity\n",
    "\n",
    "The format allows for easy reading and could be adapted into apps or booking tools in future extensions."
   ]
  },
  {
   "cell_type": "code",
   "execution_count": 10,
   "id": "9378658e",
   "metadata": {
    "execution": {
     "iopub.execute_input": "2025-04-12T12:30:29.338803Z",
     "iopub.status.busy": "2025-04-12T12:30:29.338518Z",
     "iopub.status.idle": "2025-04-12T12:30:31.632540Z",
     "shell.execute_reply": "2025-04-12T12:30:31.631623Z"
    },
    "papermill": {
     "duration": 2.300606,
     "end_time": "2025-04-12T12:30:31.633996",
     "exception": false,
     "start_time": "2025-04-12T12:30:29.333390",
     "status": "completed"
    },
    "tags": []
   },
   "outputs": [
    {
     "data": {
      "text/markdown": [
       "### 🗺️ Generated Itinerary"
      ],
      "text/plain": [
       "<IPython.core.display.Markdown object>"
      ]
     },
     "metadata": {},
     "output_type": "display_data"
    },
    {
     "data": {
      "text/html": [
       "<style type=\"text/css\">\n",
       "#T_0dc6d th {\n",
       "  text-align: left;\n",
       "}\n",
       "#T_0dc6d_row0_col0, #T_0dc6d_row0_col1, #T_0dc6d_row0_col2, #T_0dc6d_row0_col3, #T_0dc6d_row0_col4, #T_0dc6d_row1_col0, #T_0dc6d_row1_col1, #T_0dc6d_row1_col2, #T_0dc6d_row1_col3, #T_0dc6d_row1_col4, #T_0dc6d_row2_col0, #T_0dc6d_row2_col1, #T_0dc6d_row2_col2, #T_0dc6d_row2_col3, #T_0dc6d_row2_col4, #T_0dc6d_row3_col0, #T_0dc6d_row3_col1, #T_0dc6d_row3_col2, #T_0dc6d_row3_col3, #T_0dc6d_row3_col4, #T_0dc6d_row4_col0, #T_0dc6d_row4_col1, #T_0dc6d_row4_col2, #T_0dc6d_row4_col3, #T_0dc6d_row4_col4, #T_0dc6d_row5_col0, #T_0dc6d_row5_col1, #T_0dc6d_row5_col2, #T_0dc6d_row5_col3, #T_0dc6d_row5_col4, #T_0dc6d_row6_col0, #T_0dc6d_row6_col1, #T_0dc6d_row6_col2, #T_0dc6d_row6_col3, #T_0dc6d_row6_col4 {\n",
       "  text-align: left;\n",
       "  vertical-align: top;\n",
       "  white-space: pre-wrap;\n",
       "}\n",
       "</style>\n",
       "<table id=\"T_0dc6d\">\n",
       "  <thead>\n",
       "    <tr>\n",
       "      <th class=\"blank level0\" >&nbsp;</th>\n",
       "      <th id=\"T_0dc6d_level0_col0\" class=\"col_heading level0 col0\" >day</th>\n",
       "      <th id=\"T_0dc6d_level0_col1\" class=\"col_heading level0 col1\" >summary</th>\n",
       "      <th id=\"T_0dc6d_level0_col2\" class=\"col_heading level0 col2\" >morning</th>\n",
       "      <th id=\"T_0dc6d_level0_col3\" class=\"col_heading level0 col3\" >afternoon</th>\n",
       "      <th id=\"T_0dc6d_level0_col4\" class=\"col_heading level0 col4\" >evening</th>\n",
       "    </tr>\n",
       "  </thead>\n",
       "  <tbody>\n",
       "    <tr>\n",
       "      <th id=\"T_0dc6d_level0_row0\" class=\"row_heading level0 row0\" >Day 1</th>\n",
       "      <td id=\"T_0dc6d_row0_col0\" class=\"data row0 col0\" >1</td>\n",
       "      <td id=\"T_0dc6d_row0_col1\" class=\"data row0 col1\" >Arrival in Kyoto and Eastern Temple Exploration</td>\n",
       "      <td id=\"T_0dc6d_row0_col2\" class=\"data row0 col2\" >Arrive at Kyoto Station, check into a comfortable hotel near the station or in the Gion district.  Leave luggage and grab a quick ramen lunch nearby.</td>\n",
       "      <td id=\"T_0dc6d_row0_col3\" class=\"data row0 col3\" >Explore Kiyomizu-dera Temple. Take in the views and wander through the charming streets of Higashiyama district, sampling local sweets.</td>\n",
       "      <td id=\"T_0dc6d_row0_col4\" class=\"data row0 col4\" >Dinner in Gion, trying a traditional Kaiseki meal at a moderately priced restaurant (e.g., Gion Karyo). Afterwards, stroll along the Shirakawa Canal.</td>\n",
       "    </tr>\n",
       "    <tr>\n",
       "      <th id=\"T_0dc6d_level0_row1\" class=\"row_heading level0 row1\" >Day 2</th>\n",
       "      <td id=\"T_0dc6d_row1_col0\" class=\"data row1 col0\" >2</td>\n",
       "      <td id=\"T_0dc6d_row1_col1\" class=\"data row1 col1\" >Golden Pavilion and Zen Garden Serenity</td>\n",
       "      <td id=\"T_0dc6d_row1_col2\" class=\"data row1 col2\" >Visit Kinkaku-ji (Golden Pavilion), taking in its stunning beauty reflected in the pond.</td>\n",
       "      <td id=\"T_0dc6d_row1_col3\" class=\"data row1 col3\" >Head to Ryoan-ji Temple and contemplate the famous Zen rock garden. Afterwards, explore the surrounding gardens and ponds.</td>\n",
       "      <td id=\"T_0dc6d_row1_col4\" class=\"data row1 col4\" >Enjoy a casual dinner at Nishiki Market, sampling various street foods and local delicacies. Try some Kyoto-style sushi.</td>\n",
       "    </tr>\n",
       "    <tr>\n",
       "      <th id=\"T_0dc6d_level0_row2\" class=\"row_heading level0 row2\" >Day 3</th>\n",
       "      <td id=\"T_0dc6d_row2_col0\" class=\"data row2 col0\" >3</td>\n",
       "      <td id=\"T_0dc6d_row2_col1\" class=\"data row2 col1\" >Arashiyama Bamboo Forest and Monkey Park</td>\n",
       "      <td id=\"T_0dc6d_row2_col2\" class=\"data row2 col2\" >Take a train to Arashiyama. Explore the enchanting Bamboo Grove.</td>\n",
       "      <td id=\"T_0dc6d_row2_col3\" class=\"data row2 col3\" >Visit the Arashiyama Monkey Park Iwatayama for panoramic views of Kyoto and playful interactions with monkeys (be prepared for a short hike).</td>\n",
       "      <td id=\"T_0dc6d_row2_col4\" class=\"data row2 col4\" >Have dinner in Arashiyama, enjoying a meal with a view of the Hozugawa River. Consider trying Yudofu (tofu hot pot), a local specialty.</td>\n",
       "    </tr>\n",
       "    <tr>\n",
       "      <th id=\"T_0dc6d_level0_row3\" class=\"row_heading level0 row3\" >Day 4</th>\n",
       "      <td id=\"T_0dc6d_row3_col0\" class=\"data row3 col0\" >4</td>\n",
       "      <td id=\"T_0dc6d_row3_col1\" class=\"data row3 col1\" >Fushimi Inari Shrine and Sake Tasting</td>\n",
       "      <td id=\"T_0dc6d_row3_col2\" class=\"data row3 col2\" >Visit Fushimi Inari Shrine, famous for its thousands of vibrant red torii gates. Hike as far up the mountain as you'd like.</td>\n",
       "      <td id=\"T_0dc6d_row3_col3\" class=\"data row3 col3\" >Explore the Fushimi sake district.  Visit a sake brewery for a tasting and learn about the sake-making process (e.g., Gekkeikan Okura Sake Museum).</td>\n",
       "      <td id=\"T_0dc6d_row3_col4\" class=\"data row3 col4\" >Enjoy dinner at a local Izakaya (Japanese pub) near your hotel, trying various small dishes and local beers.</td>\n",
       "    </tr>\n",
       "    <tr>\n",
       "      <th id=\"T_0dc6d_level0_row4\" class=\"row_heading level0 row4\" >Day 5</th>\n",
       "      <td id=\"T_0dc6d_row4_col0\" class=\"data row4 col0\" >5</td>\n",
       "      <td id=\"T_0dc6d_row4_col1\" class=\"data row4 col1\" >Nara Day Trip: Deer and Todai-ji Temple</td>\n",
       "      <td id=\"T_0dc6d_row4_col2\" class=\"data row4 col2\" >Take a short train ride to Nara.  Immediately greet the friendly wild deer roaming Nara Park.</td>\n",
       "      <td id=\"T_0dc6d_row4_col3\" class=\"data row4 col3\" >Visit Todai-ji Temple, housing a giant bronze Buddha statue. Explore Kasuga Taisha Shrine with its thousands of lanterns.</td>\n",
       "      <td id=\"T_0dc6d_row4_col4\" class=\"data row4 col4\" >Return to Kyoto and enjoy a casual dinner near Kyoto Station. Try Okonomiyaki (savory pancake).</td>\n",
       "    </tr>\n",
       "    <tr>\n",
       "      <th id=\"T_0dc6d_level0_row5\" class=\"row_heading level0 row5\" >Day 6</th>\n",
       "      <td id=\"T_0dc6d_row5_col0\" class=\"data row5 col0\" >6</td>\n",
       "      <td id=\"T_0dc6d_row5_col1\" class=\"data row5 col1\" >Imperial Palace and Nishijin Textile District</td>\n",
       "      <td id=\"T_0dc6d_row5_col2\" class=\"data row5 col2\" >Visit the Kyoto Imperial Palace (advance booking may be required for guided tours). Explore the surrounding Kyoto Gyoen National Garden.</td>\n",
       "      <td id=\"T_0dc6d_row5_col3\" class=\"data row5 col3\" >Explore the Nishijin textile district, known for its traditional weaving techniques.  Visit the Nishijin Textile Center for demonstrations and exhibits.</td>\n",
       "      <td id=\"T_0dc6d_row5_col4\" class=\"data row5 col4\" >Enjoy a final Kyoto dinner at a restaurant specializing in Obanzai (Kyoto-style home cooking), experiencing a variety of seasonal vegetables and local flavors.</td>\n",
       "    </tr>\n",
       "    <tr>\n",
       "      <th id=\"T_0dc6d_level0_row6\" class=\"row_heading level0 row6\" >Day 7</th>\n",
       "      <td id=\"T_0dc6d_row6_col0\" class=\"data row6 col0\" >7</td>\n",
       "      <td id=\"T_0dc6d_row6_col1\" class=\"data row6 col1\" >Departure</td>\n",
       "      <td id=\"T_0dc6d_row6_col2\" class=\"data row6 col2\" >Enjoy a final Japanese breakfast. Do some last-minute souvenir shopping at Kyoto Station.</td>\n",
       "      <td id=\"T_0dc6d_row6_col3\" class=\"data row6 col3\" >Depending on your flight/train schedule, you can visit Nijo Castle (former residence of the Tokugawa shogunate) for a couple of hours.</td>\n",
       "      <td id=\"T_0dc6d_row6_col4\" class=\"data row6 col4\" >Depart from Kyoto.</td>\n",
       "    </tr>\n",
       "  </tbody>\n",
       "</table>\n"
      ],
      "text/plain": [
       "<pandas.io.formats.style.Styler at 0x7c80088de210>"
      ]
     },
     "metadata": {},
     "output_type": "display_data"
    }
   ],
   "source": [
    "import pandas as pd\n",
    "from IPython.display import display, Markdown\n",
    "\n",
    "def display_itinerary(itinerary_json):\n",
    "    if itinerary_json and isinstance(itinerary_json, list):\n",
    "        try:\n",
    "            df = pd.DataFrame(itinerary_json)\n",
    "            df.index = [f\"Day {i+1}\" for i in range(len(df))]  # Label rows\n",
    "            styled_df = df.style.set_properties(\n",
    "                **{\n",
    "                    \"text-align\": \"left\",\n",
    "                    \"vertical-align\": \"top\",\n",
    "                    \"white-space\": \"pre-wrap\"\n",
    "                }\n",
    "            ).set_table_styles(\n",
    "                [{'selector': 'th', 'props': [('text-align', 'left')]}]\n",
    "            )\n",
    "            display(Markdown(\"### 🗺️ Generated Itinerary\"))\n",
    "            display(styled_df)\n",
    "        except Exception as e:\n",
    "            print(\"⚠️ Failed to format itinerary table:\", e)\n",
    "    else:\n",
    "        print(\"⚠️ No valid itinerary found or JSON was not a list.\")\n",
    "\n",
    "# Run display\n",
    "display_itinerary(itinerary_json)\n"
   ]
  },
  {
   "cell_type": "markdown",
   "id": "12acf2b7",
   "metadata": {
    "papermill": {
     "duration": 0.004264,
     "end_time": "2025-04-12T12:30:31.642977",
     "exception": false,
     "start_time": "2025-04-12T12:30:31.638713",
     "status": "completed"
    },
    "tags": []
   },
   "source": [
    "## 🔍 Reflection and Future Work\n",
    "\n",
    "This project demonstrates how Gen AI can quickly generate structured, personalized content. However, it is currently limited to static user inputs and simulated retrieval logic.\n",
    "\n",
    "**Future improvements could include:**\n",
    "- Integrating real APIs (Google Maps, Flights, Weather, Booking.com)\n",
    "- Adding image generation to visualize destinations\n",
    "- Creating a chatbot interface using Agents or Function Calling\n",
    "\n",
    "This prototype shows how Gen AI can turn vague ideas into travel plans—instantly."
   ]
  }
 ],
 "metadata": {
  "kaggle": {
   "accelerator": "none",
   "dataSources": [],
   "dockerImageVersionId": 31012,
   "isGpuEnabled": false,
   "isInternetEnabled": true,
   "language": "python",
   "sourceType": "notebook"
  },
  "kernelspec": {
   "display_name": "Python 3",
   "language": "python",
   "name": "python3"
  },
  "language_info": {
   "codemirror_mode": {
    "name": "ipython",
    "version": 3
   },
   "file_extension": ".py",
   "mimetype": "text/x-python",
   "name": "python",
   "nbconvert_exporter": "python",
   "pygments_lexer": "ipython3",
   "version": "3.11.11"
  },
  "papermill": {
   "default_parameters": {},
   "duration": 22.628869,
   "end_time": "2025-04-12T12:30:32.469686",
   "environment_variables": {},
   "exception": null,
   "input_path": "__notebook__.ipynb",
   "output_path": "__notebook__.ipynb",
   "parameters": {},
   "start_time": "2025-04-12T12:30:09.840817",
   "version": "2.6.0"
  }
 },
 "nbformat": 4,
 "nbformat_minor": 5
}
